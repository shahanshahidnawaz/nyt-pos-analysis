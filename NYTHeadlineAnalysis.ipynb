{
 "cells": [
  {
   "cell_type": "code",
   "execution_count": 5,
   "id": "f43abf3d",
   "metadata": {},
   "outputs": [
    {
     "name": "stdout",
     "output_type": "stream",
     "text": [
      "Requirement already satisfied: nltk in c:\\users\\shahan shahid nawaz\\anaconda3\\lib\\site-packages (3.6.5)\n",
      "Requirement already satisfied: click in c:\\users\\shahan shahid nawaz\\anaconda3\\lib\\site-packages (from nltk) (8.0.3)\n",
      "Requirement already satisfied: joblib in c:\\users\\shahan shahid nawaz\\anaconda3\\lib\\site-packages (from nltk) (1.1.0)\n",
      "Requirement already satisfied: regex>=2021.8.3 in c:\\users\\shahan shahid nawaz\\anaconda3\\lib\\site-packages (from nltk) (2021.8.3)\n",
      "Requirement already satisfied: tqdm in c:\\users\\shahan shahid nawaz\\anaconda3\\lib\\site-packages (from nltk) (4.62.3)\n",
      "Requirement already satisfied: colorama in c:\\users\\shahan shahid nawaz\\anaconda3\\lib\\site-packages (from click->nltk) (0.4.4)\n",
      "Requirement already satisfied: geotext in c:\\users\\shahan shahid nawaz\\anaconda3\\lib\\site-packages (0.4.0)\n",
      "showing info https://raw.githubusercontent.com/nltk/nltk_data/gh-pages/index.xml\n"
     ]
    },
    {
     "data": {
      "text/plain": [
       "True"
      ]
     },
     "execution_count": 5,
     "metadata": {},
     "output_type": "execute_result"
    }
   ],
   "source": [
    "##SETUP\n",
    "!pip install nltk;\n",
    "!pip install geotext;\n",
    "import nltk;\n",
    "nltk.download() #this opens an external window that downloads packages in the NLTK library;\n",
    "                #choose \"all\" in the first row and press \"Download\" tp begin\n",
    "                #close the external window once done to proceed"
   ]
  },
  {
   "cell_type": "code",
   "execution_count": 6,
   "id": "4470aca5",
   "metadata": {},
   "outputs": [],
   "source": [
    "import pandas as pd\n",
    "from nltk.tokenize import word_tokenize\n",
    "from nltk import RegexpTokenizer\n",
    "from geotext import GeoText\n",
    "from nltk.corpus import wordnet as wn\n",
    "from scipy import stats\n",
    "from scipy.stats import zscore\n",
    "import matplotlib.pyplot as plt\n",
    "import statistics\n",
    "import numpy as np\n",
    "import seaborn as sns\n",
    "\n",
    "headlines = pd.read_excel('NYT Frontpage Headlines Dataset.xlsx')\n",
    "headlines = headlines.rename(columns={\n",
    "    \"HeadlineType (All Caps, Normal (SentenceCaseNoBold), Bold (SentenceCaseBold))\":\"HeadlineType\",\n",
    "    \"Headline\":\"HeadlineText\",\n",
    "    \"Article text\":\"ArticlePreview\",\n",
    "    \"Article Location\":\"ArticleLocation\"})\n",
    "headlines['HeadlineText'] = headlines['HeadlineText'].str.lower()\n",
    "#take to excel to add pronouns -> \n",
    "    #headlines are in title case which throws nltk's identifier away \n",
    "    #and replacing them thru a list is tedious (as in the code in the addendum)"
   ]
  },
  {
   "cell_type": "code",
   "execution_count": 7,
   "id": "70481722",
   "metadata": {},
   "outputs": [],
   "source": [
    "#########################################################################\n",
    "#TASK 1: COMPARE FREQ OF PARTS OF SPEECH IN HEADLINES AND PREVIEW TEXT\n",
    "#########################################################################\n",
    "\n",
    "headlinesLim = headlines[['HeadlineText','HeadlinePronouns','ArticlePreview']]\n",
    "\n",
    "#remove manually identified pronouns from headlines for pos_tag\n",
    "def isNaN(string):\n",
    "    return string != string\n",
    "\n",
    "headlineNoPronouns = []\n",
    "\n",
    "for i in range(headlinesLim.shape[0]):\n",
    "    headlineText = headlinesLim['HeadlineText'].loc[i]\n",
    "    pronounsVal = headlinesLim['HeadlinePronouns'].loc[i]\n",
    "    if isNaN(pronounsVal) == True:\n",
    "        headlineNoPronouns.append(headlineText)\n",
    "        continue\n",
    "    for pronoun in pronounsVal.split(\",\"):\n",
    "        headlineText = headlineText.replace(pronoun,\"\").strip()\n",
    "    headlineNoPronouns.append(headlineText)\n",
    "headlinesLimClean = pd.concat([headlinesLim,pd.DataFrame(headlineNoPronouns)],axis=1)\n",
    "headlinesLimClean = headlinesLimClean.rename(columns={0:\"HeadlineTextNoPronouns\"})"
   ]
  },
  {
   "cell_type": "code",
   "execution_count": 8,
   "id": "a5a163cb",
   "metadata": {},
   "outputs": [],
   "source": [
    "#function for counting the frequency of parts of speech in a given column\n",
    "def wordFormsFromDFCol(colName,dfName):\n",
    "    tokenizer = RegexpTokenizer(r'\\w+')\n",
    "    formFreqResults = []\n",
    "    for i in range(dfName.shape[0]): #rows of df\n",
    "        formFreq = {}\n",
    "        #print(dfName[colName])\n",
    "        for result in nltk.pos_tag(dfName[colName].apply(word_tokenize)[i]): #test on first\n",
    "            #for the ith row in the df\n",
    "            key = result[0]\n",
    "            form = result[1]\n",
    "            if form in formFreq:\n",
    "                formFreq[form] += 1\n",
    "            else:\n",
    "                formFreq[form] = 1\n",
    "        #print(\"----\")\n",
    "        #print(formFreqInHeadline)\n",
    "        formFreqResults.append(formFreq)\n",
    "    return formFreqResults"
   ]
  },
  {
   "cell_type": "code",
   "execution_count": 9,
   "id": "620fad98",
   "metadata": {},
   "outputs": [],
   "source": [
    "#HEADLINES\n",
    "#count parts of speech\n",
    "headlineFormFreqResults = wordFormsFromDFCol(\"HeadlineTextNoPronouns\",headlinesLimClean)\n",
    "headlinesLimCleanFormCount = pd.concat([headlinesLim,pd.DataFrame(headlineFormFreqResults)],axis=1)\n",
    "#update value of pronouns using the colum we created\n",
    "headlinesLimCleanFormCount['NNP'] = headlinesLimCleanFormCount['HeadlinePronouns'].str.split(\",\").str.len()\n",
    "headlinesLimCleanFormCount['HeadlineWords'] = headlinesLimCleanFormCount['HeadlineText'].str.split(\" \").str.len()\n",
    "headlinesLimCleanFormCount['ArticlePreviewWords'] = headlinesLimCleanFormCount['ArticlePreview'].str.split(\" \").str.len()\n",
    "headlinesAnalyze = headlinesLimCleanFormCount.drop(['HeadlineText','HeadlinePronouns','ArticlePreview','ArticlePreview','ArticlePreviewWords'],axis=1)\n",
    "headlineWords = headlinesAnalyze['HeadlineWords'] #keep for graphs\n",
    "AveragearticlePreviewWords = headlinesLimCleanFormCount['ArticlePreviewWords']\n",
    "#generate frequencies for each part of speech type\n",
    "headlinePOSFreq = headlinesAnalyze[headlinesAnalyze.columns.difference(['HeadlineWords'])].div(headlinesAnalyze.HeadlineWords, axis=0)\n",
    "headlinePOSFreq['Type'] = 'Headline'"
   ]
  },
  {
   "cell_type": "code",
   "execution_count": 10,
   "id": "23434c1d",
   "metadata": {},
   "outputs": [],
   "source": [
    "#PREVIEW TEXT\n",
    "#count parts of speech\n",
    "previewAnalyze = headlinesLimCleanFormCount[['ArticlePreview','ArticlePreviewWords']]\n",
    "articlePreviewFormResults = wordFormsFromDFCol(\"ArticlePreview\",previewAnalyze)\n",
    "previewAnalyze = pd.concat([previewAnalyze,pd.DataFrame(articlePreviewFormResults)],axis=1)\n",
    "previewAnalyze = previewAnalyze.drop(['ArticlePreview'],axis=1)\n",
    "articlePreviewWords = previewAnalyze['ArticlePreviewWords']\n",
    "#generate frequencies for each part of speech type\n",
    "previewTextPOSFreq = previewAnalyze[previewAnalyze.columns.difference(['ArticlePreviewWords'])].div(previewAnalyze.ArticlePreviewWords, axis=0)\n",
    "previewTextPOSFreq['Type'] = 'Preview Text'"
   ]
  },
  {
   "cell_type": "code",
   "execution_count": 11,
   "id": "bf5f6b2c",
   "metadata": {},
   "outputs": [
    {
     "data": {
      "text/plain": [
       "count     42.000000\n",
       "mean     239.071429\n",
       "std       87.157103\n",
       "min      125.000000\n",
       "25%      174.500000\n",
       "50%      223.000000\n",
       "75%      267.750000\n",
       "max      498.000000\n",
       "Name: ArticlePreviewWords, dtype: float64"
      ]
     },
     "execution_count": 11,
     "metadata": {},
     "output_type": "execute_result"
    }
   ],
   "source": [
    "#word count: preview\n",
    "previewAnalyze['ArticlePreviewWords'].describe()"
   ]
  },
  {
   "cell_type": "code",
   "execution_count": 12,
   "id": "ad3427e7",
   "metadata": {},
   "outputs": [],
   "source": [
    "#calculate z-scores of frequencies for each POS type (for headlines and preview text)\n",
    "#headlinePOSFreq.loc[:,headlinePOSFreq.columns!='Type'].apply(zscore)\n",
    "#print(headlinePOSFreq.select_dtypes(include=[np.number]).columns)\n",
    "#print(headlinePOSFreq.columns)\n",
    "#stats.zscore(headlinePOSFreq.loc[:,headlinePOSFreq.columns!='Type'],nan_policy='omit')\n",
    "############\n",
    "#replace NAs with 0 because NA means that POS does not feature in the text\n",
    "headlinePOSFreq = headlinePOSFreq.fillna(0)\n",
    "previewTextPOSFreq = previewTextPOSFreq.fillna(0)\n",
    "posFreq = pd.concat([headlinePOSFreq,previewTextPOSFreq],axis=0)\n",
    "#compute z scores\n",
    "#headlines\n",
    "#headlinePOSFreqZScores = stats.zscore(headlinePOSFreq.loc[:,headlinePOSFreq.columns!='Type'],nan_policy='omit')\n",
    "#np.isclose(headlinePOSFreqZScores[','].mean(),0)"
   ]
  },
  {
   "cell_type": "code",
   "execution_count": 13,
   "id": "cbe89ab2",
   "metadata": {},
   "outputs": [],
   "source": [
    "headlineFreqSummary = posFreq.query(\"Type=='Headline'\").groupby('Type').mean()\n",
    "previewTextFreqSummary = posFreq.query(\"Type=='Preview Text'\").groupby('Type').mean()\n",
    "textFreqSummary = pd.DataFrame.append(headlineFreqSummary,previewTextFreqSummary).T\n",
    "textFreqSummary['Difference Magnitude'] = textFreqSummary['Headline']/textFreqSummary['Preview Text']\n",
    "textFreqSummary = textFreqSummary.reset_index().rename(columns={'index':'POS Type'})\n",
    "posTypeDescription = pd.read_excel('NLKT POS Tag Description.xlsx').rename(columns={'Code':'POS Type','Description':'POS Description'})\n",
    "textFreqSummary = textFreqSummary.merge(posTypeDescription,on='POS Type')\n",
    "textFreqSummary = textFreqSummary[['POS Type','POS Description','Headline','Preview Text','Difference Magnitude']]"
   ]
  },
  {
   "cell_type": "code",
   "execution_count": 28,
   "id": "27758410",
   "metadata": {},
   "outputs": [],
   "source": [
    "#run t-tests\n",
    "posTypes = posFreq.drop(['Type'],axis=1).columns.values\n",
    "finalResults = dict.fromkeys(posTypes) \n",
    "set1 = posFreq[posFreq['Type']=='Headline']\n",
    "set2 = posFreq[posFreq['Type']=='Preview Text']\n",
    "\n",
    "for posType in posTypes:\n",
    "    #test for whether pos_tag mean for headlines == preview text\n",
    "    twoTailedTest = stats.ttest_ind(set1[posType].dropna(), set2[posType].dropna(), alternative='two-sided')     \n",
    "    twoTailedTestStatistic = twoTailedTest[0]\n",
    "    twoTailedTestPVal = twoTailedTest[-1]\n",
    "    \n",
    "    #test for whether pos_tag mean for headlines > preview text\n",
    "    oneTailedTest = stats.ttest_ind(set1[posType].dropna(), set2[posType].dropna(), alternative='greater')\n",
    "    oneTailedTestPVal = oneTailedTest[-1]\n",
    "    \n",
    "    finalResults[posType] = [twoTailedTestStatistic, twoTailedTestPVal, oneTailedTestPVal]    "
   ]
  },
  {
   "cell_type": "code",
   "execution_count": 15,
   "id": "ef52897f",
   "metadata": {},
   "outputs": [],
   "source": [
    "#plotDF = plotDF.sort_values('Frequency',ascending=False)"
   ]
  },
  {
   "cell_type": "code",
   "execution_count": 29,
   "id": "2bc303bf",
   "metadata": {},
   "outputs": [],
   "source": [
    "testResultSummary = pd.DataFrame(finalResults).T.dropna().reset_index().rename(columns={'index':'POS Type',0:'T-Statistic',1:'P-Value (two-tailed)',2:'P-Value (one-tailed)'})\n",
    "testResultSummary = testResultSummary.merge(posTypeDescription,on='POS Type')\n",
    "testResultSummary = testResultSummary[['POS Type','POS Description','T-Statistic','P-Value (two-tailed)','P-Value (one-tailed)']]"
   ]
  },
  {
   "cell_type": "code",
   "execution_count": 34,
   "id": "64d6c88e",
   "metadata": {},
   "outputs": [
    {
     "data": {
      "text/html": [
       "<div>\n",
       "<style scoped>\n",
       "    .dataframe tbody tr th:only-of-type {\n",
       "        vertical-align: middle;\n",
       "    }\n",
       "\n",
       "    .dataframe tbody tr th {\n",
       "        vertical-align: top;\n",
       "    }\n",
       "\n",
       "    .dataframe thead th {\n",
       "        text-align: right;\n",
       "    }\n",
       "</style>\n",
       "<table border=\"1\" class=\"dataframe\">\n",
       "  <thead>\n",
       "    <tr style=\"text-align: right;\">\n",
       "      <th></th>\n",
       "      <th>POS Type</th>\n",
       "      <th>POS Description</th>\n",
       "      <th>T-Statistic</th>\n",
       "      <th>P-Value (two-tailed)</th>\n",
       "      <th>P-Value (one-tailed)</th>\n",
       "    </tr>\n",
       "  </thead>\n",
       "  <tbody>\n",
       "    <tr>\n",
       "      <th>9</th>\n",
       "      <td>NNS</td>\n",
       "      <td>Noun  plural ‘desks’</td>\n",
       "      <td>4.586513</td>\n",
       "      <td>1.600512e-05</td>\n",
       "      <td>0.000008</td>\n",
       "    </tr>\n",
       "    <tr>\n",
       "      <th>7</th>\n",
       "      <td>NN</td>\n",
       "      <td>Noun,  singular ‘desk’</td>\n",
       "      <td>3.076497</td>\n",
       "      <td>2.846491e-03</td>\n",
       "      <td>0.001423</td>\n",
       "    </tr>\n",
       "    <tr>\n",
       "      <th>19</th>\n",
       "      <td>VBP</td>\n",
       "      <td>Verb,  sing. present, non-3d take</td>\n",
       "      <td>1.937297</td>\n",
       "      <td>5.615212e-02</td>\n",
       "      <td>0.028076</td>\n",
       "    </tr>\n",
       "    <tr>\n",
       "      <th>13</th>\n",
       "      <td>RBS</td>\n",
       "      <td>Adverb,  superlative best</td>\n",
       "      <td>0.719572</td>\n",
       "      <td>4.738346e-01</td>\n",
       "      <td>0.236917</td>\n",
       "    </tr>\n",
       "    <tr>\n",
       "      <th>8</th>\n",
       "      <td>NNP</td>\n",
       "      <td>Proper  noun, singular ‘Harrison’</td>\n",
       "      <td>0.681054</td>\n",
       "      <td>4.977559e-01</td>\n",
       "      <td>0.248878</td>\n",
       "    </tr>\n",
       "    <tr>\n",
       "      <th>22</th>\n",
       "      <td>WRB</td>\n",
       "      <td>Wh-Abverb  where, when</td>\n",
       "      <td>0.635650</td>\n",
       "      <td>5.267748e-01</td>\n",
       "      <td>0.263387</td>\n",
       "    </tr>\n",
       "    <tr>\n",
       "      <th>15</th>\n",
       "      <td>VB</td>\n",
       "      <td>Verb,  base form take</td>\n",
       "      <td>0.421822</td>\n",
       "      <td>6.742591e-01</td>\n",
       "      <td>0.337130</td>\n",
       "    </tr>\n",
       "    <tr>\n",
       "      <th>20</th>\n",
       "      <td>VBZ</td>\n",
       "      <td>Verb,  3rd person sing. present takes</td>\n",
       "      <td>-0.210031</td>\n",
       "      <td>8.341646e-01</td>\n",
       "      <td>0.582918</td>\n",
       "    </tr>\n",
       "    <tr>\n",
       "      <th>6</th>\n",
       "      <td>MD</td>\n",
       "      <td>Modal  could, will</td>\n",
       "      <td>-0.357893</td>\n",
       "      <td>7.213429e-01</td>\n",
       "      <td>0.639329</td>\n",
       "    </tr>\n",
       "    <tr>\n",
       "      <th>1</th>\n",
       "      <td>CD</td>\n",
       "      <td>Cardinal  digit</td>\n",
       "      <td>-0.427063</td>\n",
       "      <td>6.704529e-01</td>\n",
       "      <td>0.664774</td>\n",
       "    </tr>\n",
       "    <tr>\n",
       "      <th>14</th>\n",
       "      <td>RP</td>\n",
       "      <td>Particle  give up</td>\n",
       "      <td>-0.436866</td>\n",
       "      <td>6.633569e-01</td>\n",
       "      <td>0.668322</td>\n",
       "    </tr>\n",
       "    <tr>\n",
       "      <th>11</th>\n",
       "      <td>PRP$</td>\n",
       "      <td>Possessive  pronoun my, his, hers</td>\n",
       "      <td>-0.498911</td>\n",
       "      <td>6.191778e-01</td>\n",
       "      <td>0.690411</td>\n",
       "    </tr>\n",
       "    <tr>\n",
       "      <th>3</th>\n",
       "      <td>IN</td>\n",
       "      <td>Preposition/Subordinating  conjunction</td>\n",
       "      <td>-0.501640</td>\n",
       "      <td>6.172650e-01</td>\n",
       "      <td>0.691368</td>\n",
       "    </tr>\n",
       "    <tr>\n",
       "      <th>5</th>\n",
       "      <td>JJR</td>\n",
       "      <td>Adjective,  comparative ‘bigger’</td>\n",
       "      <td>-0.611271</td>\n",
       "      <td>5.427108e-01</td>\n",
       "      <td>0.728645</td>\n",
       "    </tr>\n",
       "    <tr>\n",
       "      <th>21</th>\n",
       "      <td>WDT</td>\n",
       "      <td>Wh-Determiner  which</td>\n",
       "      <td>-1.199720</td>\n",
       "      <td>2.337031e-01</td>\n",
       "      <td>0.883148</td>\n",
       "    </tr>\n",
       "    <tr>\n",
       "      <th>4</th>\n",
       "      <td>JJ</td>\n",
       "      <td>Adjective  ‘big’</td>\n",
       "      <td>-1.666806</td>\n",
       "      <td>9.936840e-02</td>\n",
       "      <td>0.950316</td>\n",
       "    </tr>\n",
       "    <tr>\n",
       "      <th>17</th>\n",
       "      <td>VBG</td>\n",
       "      <td>Verb,  gerund/present participle taking</td>\n",
       "      <td>-1.734822</td>\n",
       "      <td>8.652967e-02</td>\n",
       "      <td>0.956735</td>\n",
       "    </tr>\n",
       "    <tr>\n",
       "      <th>12</th>\n",
       "      <td>RB</td>\n",
       "      <td>Adverb  very, silently,</td>\n",
       "      <td>-2.286104</td>\n",
       "      <td>2.482804e-02</td>\n",
       "      <td>0.987586</td>\n",
       "    </tr>\n",
       "    <tr>\n",
       "      <th>18</th>\n",
       "      <td>VBN</td>\n",
       "      <td>Verb,  past participle taken</td>\n",
       "      <td>-2.991435</td>\n",
       "      <td>3.666401e-03</td>\n",
       "      <td>0.998167</td>\n",
       "    </tr>\n",
       "    <tr>\n",
       "      <th>16</th>\n",
       "      <td>VBD</td>\n",
       "      <td>Verb,  past tense took</td>\n",
       "      <td>-3.178813</td>\n",
       "      <td>2.086633e-03</td>\n",
       "      <td>0.998957</td>\n",
       "    </tr>\n",
       "    <tr>\n",
       "      <th>2</th>\n",
       "      <td>DT</td>\n",
       "      <td>Determiner</td>\n",
       "      <td>-4.359888</td>\n",
       "      <td>3.750226e-05</td>\n",
       "      <td>0.999981</td>\n",
       "    </tr>\n",
       "    <tr>\n",
       "      <th>0</th>\n",
       "      <td>CC</td>\n",
       "      <td>Coordinating  conjunction</td>\n",
       "      <td>-4.598335</td>\n",
       "      <td>1.530034e-05</td>\n",
       "      <td>0.999992</td>\n",
       "    </tr>\n",
       "    <tr>\n",
       "      <th>10</th>\n",
       "      <td>PRP</td>\n",
       "      <td>Personal  pronoun I, he, she</td>\n",
       "      <td>-7.626624</td>\n",
       "      <td>3.817502e-11</td>\n",
       "      <td>1.000000</td>\n",
       "    </tr>\n",
       "  </tbody>\n",
       "</table>\n",
       "</div>"
      ],
      "text/plain": [
       "   POS Type                          POS Description  T-Statistic  \\\n",
       "9       NNS                     Noun  plural ‘desks’     4.586513   \n",
       "7        NN                   Noun,  singular ‘desk’     3.076497   \n",
       "19      VBP        Verb,  sing. present, non-3d take     1.937297   \n",
       "13      RBS                Adverb,  superlative best     0.719572   \n",
       "8       NNP        Proper  noun, singular ‘Harrison’     0.681054   \n",
       "22      WRB                   Wh-Abverb  where, when     0.635650   \n",
       "15       VB                    Verb,  base form take     0.421822   \n",
       "20      VBZ    Verb,  3rd person sing. present takes    -0.210031   \n",
       "6        MD                       Modal  could, will    -0.357893   \n",
       "1        CD                          Cardinal  digit    -0.427063   \n",
       "14       RP                        Particle  give up    -0.436866   \n",
       "11     PRP$        Possessive  pronoun my, his, hers    -0.498911   \n",
       "3        IN   Preposition/Subordinating  conjunction    -0.501640   \n",
       "5       JJR         Adjective,  comparative ‘bigger’    -0.611271   \n",
       "21      WDT                     Wh-Determiner  which    -1.199720   \n",
       "4        JJ                         Adjective  ‘big’    -1.666806   \n",
       "17      VBG  Verb,  gerund/present participle taking    -1.734822   \n",
       "12       RB                  Adverb  very, silently,    -2.286104   \n",
       "18      VBN             Verb,  past participle taken    -2.991435   \n",
       "16      VBD                   Verb,  past tense took    -3.178813   \n",
       "2        DT                               Determiner    -4.359888   \n",
       "0        CC                Coordinating  conjunction    -4.598335   \n",
       "10      PRP             Personal  pronoun I, he, she    -7.626624   \n",
       "\n",
       "    P-Value (two-tailed)  P-Value (one-tailed)  \n",
       "9           1.600512e-05              0.000008  \n",
       "7           2.846491e-03              0.001423  \n",
       "19          5.615212e-02              0.028076  \n",
       "13          4.738346e-01              0.236917  \n",
       "8           4.977559e-01              0.248878  \n",
       "22          5.267748e-01              0.263387  \n",
       "15          6.742591e-01              0.337130  \n",
       "20          8.341646e-01              0.582918  \n",
       "6           7.213429e-01              0.639329  \n",
       "1           6.704529e-01              0.664774  \n",
       "14          6.633569e-01              0.668322  \n",
       "11          6.191778e-01              0.690411  \n",
       "3           6.172650e-01              0.691368  \n",
       "5           5.427108e-01              0.728645  \n",
       "21          2.337031e-01              0.883148  \n",
       "4           9.936840e-02              0.950316  \n",
       "17          8.652967e-02              0.956735  \n",
       "12          2.482804e-02              0.987586  \n",
       "18          3.666401e-03              0.998167  \n",
       "16          2.086633e-03              0.998957  \n",
       "2           3.750226e-05              0.999981  \n",
       "0           1.530034e-05              0.999992  \n",
       "10          3.817502e-11              1.000000  "
      ]
     },
     "execution_count": 34,
     "metadata": {},
     "output_type": "execute_result"
    }
   ],
   "source": [
    "testResultSummary.sort_values('P-Value (one-tailed)')\n",
    "#testResultSummary[testResultSummary['T-Statistic'] > 0].sort_values('P-Value (one-tailed)',ascending=True)\n",
    "#after replacing NAs with 0s, we have three parts of speech which appear more frequently in headlines versus preview text: \n",
    "#1. plural nouns (NNS)\n",
    "#2. singular nounds (NN)\n",
    "#3. singular present verbs (VBP)"
   ]
  },
  {
   "cell_type": "code",
   "execution_count": 31,
   "id": "271f5a6d",
   "metadata": {
    "scrolled": true
   },
   "outputs": [
    {
     "data": {
      "image/png": "[encoded data removed]",
      "text/plain": [
       "<Figure size 864x648 with 1 Axes>"
      ]
     },
     "metadata": {},
     "output_type": "display_data"
    }
   ],
   "source": [
    "headline = posFreq.groupby('Type').mean().T[['Headline']].rename(columns={'Headline':'Frequency'})\n",
    "headline['Type'] = 'Headline'\n",
    "previewText = posFreq.groupby('Type').mean().T[['Preview Text']].rename(columns={'Preview Text':'Frequency'})\n",
    "previewText['Type'] = 'Preview Text'\n",
    "result = pd.concat([headline,previewText]).reset_index().rename(columns={'index':'POS Type'})\n",
    "result = result.merge(posTypeDescription,on='POS Type')\n",
    "posToDrop = ['$','(',')','EX','FW','JJS','NNPS','PDT','POS','RBR','WP','WP$']\n",
    "plotDF = result[~result['POS Type'].isin(posToDrop)].rename(columns={'POS Description':'Part of Speech'})\n",
    "sns.set(rc = {'figure.figsize':(12,9)})\n",
    "sns.set_theme(style=\"whitegrid\")\n",
    "sns.set_style({'axes.facecolor':'white'})\n",
    "scatter = sns.scatterplot(data=plotDF,\n",
    "                       x=\"Frequency\",\n",
    "                       y='POS Type',\n",
    "                       hue='Type',\n",
    "                       style='Type',\n",
    "                       s=125,\n",
    "                       markers=['o', 'o'],\n",
    "                       #alpha=0.5,\n",
    "                       palette=['blue','goldenrod'],\n",
    "                       legend=True)\n",
    "scatter.legend(loc='upper right')\n",
    "scatter.grid(axis='x')\n",
    "scatter.set_xlabel(\"Frequency\",fontsize = 15);\n",
    "scatter.set_ylabel(\"Part of Speech\",fontsize = 15);\n",
    "scatter.set_title(\"Headlines vs. Preview Text: Frequencies of Parts of Speech\",fontsize=20);"
   ]
  },
  {
   "cell_type": "code",
   "execution_count": 349,
   "id": "35a10254",
   "metadata": {},
   "outputs": [],
   "source": [
    "#########################################################################\n",
    "#TASK 2: COMPARE FREQ OF HYPERNYMS & HYPONYMS IN HEADLINES AND PREVIEW TEXT\n",
    "#########################################################################\n",
    "\n",
    "pt2Headlines = headlinesLimClean[['HeadlineText']]\n",
    "pt2PreviewText = headlinesLimClean[['ArticlePreview']]\n",
    "\n",
    "#test headline -> hyponyms (H0: more base words so should feature more hyponyms)\n",
    "headlineMeanHyponyms = []\n",
    "headlineMeanHypernyms = []\n",
    "for i in range(42):\n",
    "    hyponymCountHeadline = []\n",
    "    hypernymCountHeadline = []\n",
    "    for word in pt2Headlines.loc[i].values[0].split(\" \"):\n",
    "        for ss in wn.synsets(word):\n",
    "            hyponymCountHeadline.append(len(ss.hyponyms()))\n",
    "            hypernymCountHeadline.append(len(ss.hypernyms()))\n",
    "    headlineMeanHyponyms.append(statistics.mean(hyponymCountHeadline))\n",
    "    headlineMeanHypernyms.append(statistics.mean(hypernymCountHeadline))"
   ]
  },
  {
   "cell_type": "code",
   "execution_count": 350,
   "id": "8083b130",
   "metadata": {},
   "outputs": [
    {
     "name": "stdout",
     "output_type": "stream",
     "text": [
      "**Headlines:**\n",
      "Hyponyms (mean): 2.454842627359863\n",
      "Hyponyms (s.d): 1.632493378200929\n",
      "\n",
      "Hypernyms (mean): 0.7685536212748706\n",
      "Hypernyms (s.d): 0.12826475342355198\n"
     ]
    }
   ],
   "source": [
    "print(\"**Headlines:**\")\n",
    "print(\"Hyponyms (mean):\",statistics.mean(headlineMeanHyponyms))\n",
    "print(\"Hyponyms (s.d):\",statistics.stdev(headlineMeanHyponyms))\n",
    "print(\"\\nHypernyms (mean):\",statistics.mean(headlineMeanHypernyms))\n",
    "print(\"Hypernyms (s.d):\",statistics.stdev(headlineMeanHypernyms))"
   ]
  },
  {
   "cell_type": "code",
   "execution_count": 351,
   "id": "1ea09d61",
   "metadata": {},
   "outputs": [],
   "source": [
    "#test preview text -> hyponyms (H0: fewer base words so should feature less hyponyms)\n",
    "previewMeanHyponyms = []\n",
    "previewMeanHypernyms = []\n",
    "for i in range(42):\n",
    "    hyponymCountPreview = []\n",
    "    hypernymCountPreview = []\n",
    "    for word in pt2PreviewText.loc[i].values[0].split(\" \"):\n",
    "        for ss in wn.synsets(word):\n",
    "            hyponymCountPreview.append(len(ss.hyponyms()))\n",
    "            hypernymCountPreview.append(len(ss.hypernyms()))\n",
    "    previewMeanHyponyms.append(statistics.mean(hyponymCountPreview))\n",
    "    previewMeanHypernyms.append(statistics.mean(hypernymCountPreview))"
   ]
  },
  {
   "cell_type": "code",
   "execution_count": 352,
   "id": "44c050b3",
   "metadata": {},
   "outputs": [
    {
     "name": "stdout",
     "output_type": "stream",
     "text": [
      "**Preview Text:**\n",
      "Hyponyms (mean): 3.31403740638585\n",
      "Hyponyms (s.d): 0.45935347505827123\n",
      "\n",
      "Hypernyms (mean): 0.6765941701838908\n",
      "Hypernyms (s.d): 0.03783530995015731\n"
     ]
    }
   ],
   "source": [
    "print(\"**Preview Text:**\")\n",
    "print(\"Hyponyms (mean):\",statistics.mean(previewMeanHyponyms))\n",
    "print(\"Hyponyms (s.d):\",statistics.stdev(previewMeanHyponyms))\n",
    "print(\"\\nHypernyms (mean):\",statistics.mean(previewMeanHypernyms))\n",
    "print(\"Hypernyms (s.d):\",statistics.stdev(previewMeanHypernyms))"
   ]
  },
  {
   "cell_type": "code",
   "execution_count": 353,
   "id": "d4ac02cd",
   "metadata": {},
   "outputs": [
    {
     "data": {
      "text/plain": [
       "-13.533335439865342"
      ]
     },
     "execution_count": 353,
     "metadata": {},
     "output_type": "execute_result"
    }
   ],
   "source": [
    "#T-TEST (h0: mean no. of hyponyms for headlines > preview text)\n",
    "numerator = (statistics.mean(headlineMeanHyponyms)-statistics.mean(previewMeanHyponyms))\n",
    "denominator = ((statistics.stdev(headlineMeanHyponyms)**2)/42)+(statistics.stdev(previewMeanHypernyms)**2/42)\n",
    "hyponymTTestVal = numerator/denominator\n",
    "hyponymTTestVal #p-val < 0.05; reject the null; hyponynms in headline !> those in preview text"
   ]
  },
  {
   "cell_type": "code",
   "execution_count": 354,
   "id": "4c6eb175",
   "metadata": {},
   "outputs": [
    {
     "data": {
      "text/plain": [
       "[('Supreme', 'NNP'),\n",
       " ('Court', 'NNP'),\n",
       " ('lets', 'VBZ'),\n",
       " ('Texas', 'NNP'),\n",
       " ('law', 'NN'),\n",
       " ('be', 'VB'),\n",
       " ('challenged', 'VBN')]"
      ]
     },
     "execution_count": 354,
     "metadata": {},
     "output_type": "execute_result"
    }
   ],
   "source": [
    "nltk.pos_tag([\"Supreme\",\"Court\",\"lets\",\"Texas\",\"law\",\"be\",\"challenged\"])"
   ]
  },
  {
   "cell_type": "code",
   "execution_count": 355,
   "id": "2e03c719",
   "metadata": {},
   "outputs": [],
   "source": [
    "###############\n",
    "###ADDENDUM\n",
    "###############\n",
    "# #count number of manually identified pronouns in the headline column\n",
    "# headlines['PronounNum'] = 0\n",
    "# headlines['HeadlineTextNoPronoun'] = headlines['HeadlineText']\n",
    "# for i in range(headlines.shape[0]):\n",
    "#     headlineText = headlines['HeadlineText'].loc[i] \n",
    "#     for pronoun in headlinePronouns:\n",
    "#         pronounSearch = pronoun.lower()\n",
    "#         if pronounSearch in headlineText:\n",
    "#             #count the number of pronouns\n",
    "#             headlines['PronounNum'].loc[headlines['HeadlineText']==headlineText] += 1\n",
    "#             #remove these pronouns from the headline column to run through the NLKT's pos_tagger\n",
    "#             headlines['HeadlineTextNoPronoun'].loc[headlines['HeadlineText']==headlineText] = headlines['HeadlineText'].str.replace(headlinePronouns,\"\")"
   ]
  },
  {
   "cell_type": "code",
   "execution_count": 356,
   "id": "8b1e8afa",
   "metadata": {},
   "outputs": [
    {
     "name": "stdout",
     "output_type": "stream",
     "text": [
      "Avg. words:\n",
      "Headline: 8.30952380952381\n",
      "Preview text: 239.07142857142858\n"
     ]
    }
   ],
   "source": [
    "print(\"Avg. words:\")\n",
    "print(\"Headline:\",headlineWords.mean())\n",
    "print(\"Preview text:\",AveragearticlePreviewWords.mean())"
   ]
  }
 ],
 "metadata": {
  "kernelspec": {
   "display_name": "Python 3 (ipykernel)",
   "language": "python",
   "name": "python3"
  },
  "language_info": {
   "codemirror_mode": {
    "name": "ipython",
    "version": 3
   },
   "file_extension": ".py",
   "mimetype": "text/x-python",
   "name": "python",
   "nbconvert_exporter": "python",
   "pygments_lexer": "ipython3",
   "version": "3.9.7"
  }
 },
 "nbformat": 4,
 "nbformat_minor": 5
}
